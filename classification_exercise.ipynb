{
  "nbformat": 4,
  "nbformat_minor": 0,
  "metadata": {
    "colab": {
      "name": "classification-exercise.ipynb",
      "version": "0.3.2",
      "provenance": [],
      "collapsed_sections": []
    },
    "kernelspec": {
      "name": "python3",
      "display_name": "Python 3"
    }
  },
  "cells": [
    {
      "metadata": {
        "id": "oOAibLwEnWhL",
        "colab_type": "code",
        "colab": {}
      },
      "cell_type": "code",
      "source": [
        "%matplotlib inline\n",
        "import numpy as np\n",
        "import matplotlib.pyplot as plt\n",
        "import pandas as pd"
      ],
      "execution_count": 0,
      "outputs": []
    },
    {
      "metadata": {
        "id": "OVLE8buVolRF",
        "colab_type": "code",
        "outputId": "6d4f53ad-c05f-468d-e7e2-d18cbba76d60",
        "colab": {
          "base_uri": "https://localhost:8080/",
          "height": 204
        }
      },
      "cell_type": "code",
      "source": [
        "data1 = pd.read_csv('ex2data1.txt', names=['exam1', 'exam2', 'admitted'])\n",
        "data1.head()"
      ],
      "execution_count": 13,
      "outputs": [
        {
          "output_type": "execute_result",
          "data": {
            "text/html": [
              "<div>\n",
              "<style scoped>\n",
              "    .dataframe tbody tr th:only-of-type {\n",
              "        vertical-align: middle;\n",
              "    }\n",
              "\n",
              "    .dataframe tbody tr th {\n",
              "        vertical-align: top;\n",
              "    }\n",
              "\n",
              "    .dataframe thead th {\n",
              "        text-align: right;\n",
              "    }\n",
              "</style>\n",
              "<table border=\"1\" class=\"dataframe\">\n",
              "  <thead>\n",
              "    <tr style=\"text-align: right;\">\n",
              "      <th></th>\n",
              "      <th>exam1</th>\n",
              "      <th>exam2</th>\n",
              "      <th>admitted</th>\n",
              "    </tr>\n",
              "  </thead>\n",
              "  <tbody>\n",
              "    <tr>\n",
              "      <th>0</th>\n",
              "      <td>34.623660</td>\n",
              "      <td>78.024693</td>\n",
              "      <td>0</td>\n",
              "    </tr>\n",
              "    <tr>\n",
              "      <th>1</th>\n",
              "      <td>30.286711</td>\n",
              "      <td>43.894998</td>\n",
              "      <td>0</td>\n",
              "    </tr>\n",
              "    <tr>\n",
              "      <th>2</th>\n",
              "      <td>35.847409</td>\n",
              "      <td>72.902198</td>\n",
              "      <td>0</td>\n",
              "    </tr>\n",
              "    <tr>\n",
              "      <th>3</th>\n",
              "      <td>60.182599</td>\n",
              "      <td>86.308552</td>\n",
              "      <td>1</td>\n",
              "    </tr>\n",
              "    <tr>\n",
              "      <th>4</th>\n",
              "      <td>79.032736</td>\n",
              "      <td>75.344376</td>\n",
              "      <td>1</td>\n",
              "    </tr>\n",
              "  </tbody>\n",
              "</table>\n",
              "</div>"
            ],
            "text/plain": [
              "       exam1      exam2  admitted\n",
              "0  34.623660  78.024693         0\n",
              "1  30.286711  43.894998         0\n",
              "2  35.847409  72.902198         0\n",
              "3  60.182599  86.308552         1\n",
              "4  79.032736  75.344376         1"
            ]
          },
          "metadata": {
            "tags": []
          },
          "execution_count": 13
        }
      ]
    },
    {
      "metadata": {
        "id": "Tig-K8fUpb6J",
        "colab_type": "code",
        "colab": {
          "base_uri": "https://localhost:8080/",
          "height": 441
        },
        "outputId": "e5753d43-18dc-439e-d7aa-2ba34565d7e2"
      },
      "cell_type": "code",
      "source": [
        "data1.info()\n",
        "data1.describe()"
      ],
      "execution_count": 14,
      "outputs": [
        {
          "output_type": "stream",
          "text": [
            "<class 'pandas.core.frame.DataFrame'>\n",
            "RangeIndex: 100 entries, 0 to 99\n",
            "Data columns (total 3 columns):\n",
            "exam1       100 non-null float64\n",
            "exam2       100 non-null float64\n",
            "admitted    100 non-null int64\n",
            "dtypes: float64(2), int64(1)\n",
            "memory usage: 2.4 KB\n"
          ],
          "name": "stdout"
        },
        {
          "output_type": "execute_result",
          "data": {
            "text/html": [
              "<div>\n",
              "<style scoped>\n",
              "    .dataframe tbody tr th:only-of-type {\n",
              "        vertical-align: middle;\n",
              "    }\n",
              "\n",
              "    .dataframe tbody tr th {\n",
              "        vertical-align: top;\n",
              "    }\n",
              "\n",
              "    .dataframe thead th {\n",
              "        text-align: right;\n",
              "    }\n",
              "</style>\n",
              "<table border=\"1\" class=\"dataframe\">\n",
              "  <thead>\n",
              "    <tr style=\"text-align: right;\">\n",
              "      <th></th>\n",
              "      <th>exam1</th>\n",
              "      <th>exam2</th>\n",
              "      <th>admitted</th>\n",
              "    </tr>\n",
              "  </thead>\n",
              "  <tbody>\n",
              "    <tr>\n",
              "      <th>count</th>\n",
              "      <td>100.000000</td>\n",
              "      <td>100.000000</td>\n",
              "      <td>100.000000</td>\n",
              "    </tr>\n",
              "    <tr>\n",
              "      <th>mean</th>\n",
              "      <td>65.644274</td>\n",
              "      <td>66.221998</td>\n",
              "      <td>0.600000</td>\n",
              "    </tr>\n",
              "    <tr>\n",
              "      <th>std</th>\n",
              "      <td>19.458222</td>\n",
              "      <td>18.582783</td>\n",
              "      <td>0.492366</td>\n",
              "    </tr>\n",
              "    <tr>\n",
              "      <th>min</th>\n",
              "      <td>30.058822</td>\n",
              "      <td>30.603263</td>\n",
              "      <td>0.000000</td>\n",
              "    </tr>\n",
              "    <tr>\n",
              "      <th>25%</th>\n",
              "      <td>50.919511</td>\n",
              "      <td>48.179205</td>\n",
              "      <td>0.000000</td>\n",
              "    </tr>\n",
              "    <tr>\n",
              "      <th>50%</th>\n",
              "      <td>67.032988</td>\n",
              "      <td>67.682381</td>\n",
              "      <td>1.000000</td>\n",
              "    </tr>\n",
              "    <tr>\n",
              "      <th>75%</th>\n",
              "      <td>80.212529</td>\n",
              "      <td>79.360605</td>\n",
              "      <td>1.000000</td>\n",
              "    </tr>\n",
              "    <tr>\n",
              "      <th>max</th>\n",
              "      <td>99.827858</td>\n",
              "      <td>98.869436</td>\n",
              "      <td>1.000000</td>\n",
              "    </tr>\n",
              "  </tbody>\n",
              "</table>\n",
              "</div>"
            ],
            "text/plain": [
              "            exam1       exam2    admitted\n",
              "count  100.000000  100.000000  100.000000\n",
              "mean    65.644274   66.221998    0.600000\n",
              "std     19.458222   18.582783    0.492366\n",
              "min     30.058822   30.603263    0.000000\n",
              "25%     50.919511   48.179205    0.000000\n",
              "50%     67.032988   67.682381    1.000000\n",
              "75%     80.212529   79.360605    1.000000\n",
              "max     99.827858   98.869436    1.000000"
            ]
          },
          "metadata": {
            "tags": []
          },
          "execution_count": 14
        }
      ]
    },
    {
      "metadata": {
        "id": "Esy4OEIv0bpb",
        "colab_type": "code",
        "colab": {}
      },
      "cell_type": "code",
      "source": [
        ""
      ],
      "execution_count": 0,
      "outputs": []
    },
    {
      "metadata": {
        "id": "sEoMf-Al0cDS",
        "colab_type": "code",
        "colab": {}
      },
      "cell_type": "code",
      "source": [
        ""
      ],
      "execution_count": 0,
      "outputs": []
    },
    {
      "metadata": {
        "id": "tMOdCM5SpiMh",
        "colab_type": "code",
        "colab": {}
      },
      "cell_type": "code",
      "source": [
        "X = np.array(data1[['exam1', 'exam2']])\n",
        "y = np.array(data1['admitted'])\n",
        "X = np.insert(X, 0, 1, axis=1)"
      ],
      "execution_count": 0,
      "outputs": []
    },
    {
      "metadata": {
        "id": "oG3iy5nmqOOT",
        "colab_type": "code",
        "colab": {}
      },
      "cell_type": "code",
      "source": [
        "def plot_dataset(X, y, axes):\n",
        "  plt.figure(figsize=(10,6))\n",
        "  plt.plot(X[:, 1][y==1], X[:, 2][y==1], \"k^\", label=\"Admitted\")\n",
        "  plt.plot(X[:, 1][y==0], X[:, 2][y==0], \"yo\", label=\"Not admitted\")\n",
        "  plt.axis(axes)\n",
        "  plt.xlabel(\"Exam 1 score\")\n",
        "  plt.ylabel(\"Exam 2 score\")\n",
        "  plt.grid(True)\n",
        "  plt.legend()"
      ],
      "execution_count": 0,
      "outputs": []
    },
    {
      "metadata": {
        "id": "b9TeNcUerBzF",
        "colab_type": "code",
        "colab": {
          "base_uri": "https://localhost:8080/",
          "height": 392
        },
        "outputId": "bb679471-982c-4b24-c20a-62d8da878c0e"
      },
      "cell_type": "code",
      "source": [
        "plot_dataset(X, y, [30, 100 ,30, 100])"
      ],
      "execution_count": 17,
      "outputs": [
        {
          "output_type": "display_data",
          "data": {
            "image/png": "[encoded data removed]",
            "text/plain": [
              "<Figure size 720x432 with 1 Axes>"
            ]
          },
          "metadata": {
            "tags": []
          }
        }
      ]
    },
    {
      "metadata": {
        "id": "XdSLk1Vmvg0E",
        "colab_type": "code",
        "colab": {}
      },
      "cell_type": "code",
      "source": [
        "from scipy.special import expit"
      ],
      "execution_count": 0,
      "outputs": []
    },
    {
      "metadata": {
        "id": "iQN9zn02sdJB",
        "colab_type": "code",
        "colab": {
          "base_uri": "https://localhost:8080/",
          "height": 71
        },
        "outputId": "b37fc4ca-4c37-4836-bd92-d503cdf1da47"
      },
      "cell_type": "code",
      "source": [
        "print(expit(0))\n",
        "print(expit(1))\n",
        "print(expit(-1))"
      ],
      "execution_count": 19,
      "outputs": [
        {
          "output_type": "stream",
          "text": [
            "0.5\n",
            "0.7310585786300049\n",
            "0.2689414213699951\n"
          ],
          "name": "stdout"
        }
      ]
    },
    {
      "metadata": {
        "id": "cmZj9ECpx2Yq",
        "colab_type": "code",
        "colab": {}
      },
      "cell_type": "code",
      "source": [
        "def h(theta, x):\n",
        "  return expit(np.dot(x, theta))"
      ],
      "execution_count": 0,
      "outputs": []
    },
    {
      "metadata": {
        "id": "TYgVZ8_9y9Uc",
        "colab_type": "code",
        "colab": {}
      },
      "cell_type": "code",
      "source": [
        "def j(theta, x, y, lambda_=0):\n",
        "  term1 = np.dot(-y.T, np.log(h(theta, x)))\n",
        "  term2 = np.dot((1 - y).T, np.log(1 - h(theta, x)))\n",
        "  regul_term = (lambda_ / 2) * np.sum(np.dot(theta[1:].T, theta[1:]))\n",
        "  return float((1. / m) * (np.sum(term1 - term2) + regul_term))"
      ],
      "execution_count": 0,
      "outputs": []
    },
    {
      "metadata": {
        "id": "TZ4aFjQI2qKi",
        "colab_type": "code",
        "colab": {}
      },
      "cell_type": "code",
      "source": [
        "y = y.reshape(y.size, 1)\n",
        "m = y.size"
      ],
      "execution_count": 0,
      "outputs": []
    },
    {
      "metadata": {
        "id": "HUVFqqV_3P45",
        "colab_type": "code",
        "colab": {
          "base_uri": "https://localhost:8080/",
          "height": 35
        },
        "outputId": "55929938-7a09-410c-a359-4617f43dcc4a"
      },
      "cell_type": "code",
      "source": [
        "initial_theta = np.zeros((X.shape[1], 1))\n",
        "j(initial_theta, X, y)"
      ],
      "execution_count": 23,
      "outputs": [
        {
          "output_type": "execute_result",
          "data": {
            "text/plain": [
              "0.6931471805599453"
            ]
          },
          "metadata": {
            "tags": []
          },
          "execution_count": 23
        }
      ]
    },
    {
      "metadata": {
        "id": "HqMxtSek3-Sj",
        "colab_type": "code",
        "colab": {}
      },
      "cell_type": "code",
      "source": [
        "from scipy import optimize\n",
        "\n",
        "def optimizeTheta(theta, x, y, lambda_=0):\n",
        "  result = optimize.fmin(j, x0=theta, args=(x, y, lambda_), maxiter=400, full_output=True)\n",
        "  return result[0], result[1]"
      ],
      "execution_count": 0,
      "outputs": []
    },
    {
      "metadata": {
        "id": "xMoZPSre74XD",
        "colab_type": "code",
        "colab": {
          "base_uri": "https://localhost:8080/",
          "height": 89
        },
        "outputId": "1f768487-00d6-4714-e48b-8b5d9329b0db"
      },
      "cell_type": "code",
      "source": [
        "optimized_theta, mincost = optimizeTheta(initial_theta, X, y)"
      ],
      "execution_count": 25,
      "outputs": [
        {
          "output_type": "stream",
          "text": [
            "Optimization terminated successfully.\n",
            "         Current function value: 0.203498\n",
            "         Iterations: 157\n",
            "         Function evaluations: 287\n"
          ],
          "name": "stdout"
        }
      ]
    },
    {
      "metadata": {
        "id": "snMjCMdiE30a",
        "colab_type": "code",
        "colab": {
          "base_uri": "https://localhost:8080/",
          "height": 35
        },
        "outputId": "c7628adf-7ea5-4dc4-9495-cd7ce241604a"
      },
      "cell_type": "code",
      "source": [
        "optimized_theta"
      ],
      "execution_count": 26,
      "outputs": [
        {
          "output_type": "execute_result",
          "data": {
            "text/plain": [
              "array([-25.16130062,   0.20623142,   0.20147143])"
            ]
          },
          "metadata": {
            "tags": []
          },
          "execution_count": 26
        }
      ]
    },
    {
      "metadata": {
        "id": "2Ol2Kxyj8B3e",
        "colab_type": "code",
        "colab": {
          "base_uri": "https://localhost:8080/",
          "height": 410
        },
        "outputId": "b60853f9-09cf-4ab3-be52-7d42eaff1c68"
      },
      "cell_type": "code",
      "source": [
        "boundary_xs = np.array([np.min(X[:,1]), np.max(X[:,1])])\n",
        "boundary_ys = (-1./optimized_theta[2])*(optimized_theta[0] + optimized_theta[1] * boundary_xs)\n",
        "plot_dataset(X, np.array(data1['admitted']), [30, 100 ,30, 100])\n",
        "plt.plot(boundary_xs,boundary_ys,'b-',label='Decision Boundary')\n",
        "plt.legend()"
      ],
      "execution_count": 27,
      "outputs": [
        {
          "output_type": "execute_result",
          "data": {
            "text/plain": [
              "<matplotlib.legend.Legend at 0x7f89cce80a58>"
            ]
          },
          "metadata": {
            "tags": []
          },
          "execution_count": 27
        },
        {
          "output_type": "display_data",
          "data": {
            "image/png": "[encoded data removed]",
            "text/plain": [
              "<Figure size 720x432 with 1 Axes>"
            ]
          },
          "metadata": {
            "tags": []
          }
        }
      ]
    },
    {
      "metadata": {
        "id": "uoJ77HkyEO8s",
        "colab_type": "code",
        "colab": {
          "base_uri": "https://localhost:8080/",
          "height": 89
        },
        "outputId": "65a76355-c2f3-49fa-b9e7-8a0a512eaaf5"
      },
      "cell_type": "code",
      "source": [
        "from sklearn.linear_model import LogisticRegression\n",
        "\n",
        "log_reg = LogisticRegression(solver=\"liblinear\", random_state=42)\n",
        "log_reg.fit(data1[['exam1', 'exam2']], np.array(data1['admitted']))"
      ],
      "execution_count": 28,
      "outputs": [
        {
          "output_type": "execute_result",
          "data": {
            "text/plain": [
              "LogisticRegression(C=1.0, class_weight=None, dual=False, fit_intercept=True,\n",
              "          intercept_scaling=1, max_iter=100, multi_class='warn',\n",
              "          n_jobs=None, penalty='l2', random_state=42, solver='liblinear',\n",
              "          tol=0.0001, verbose=0, warm_start=False)"
            ]
          },
          "metadata": {
            "tags": []
          },
          "execution_count": 28
        }
      ]
    },
    {
      "metadata": {
        "id": "r8sSUYFhEqdj",
        "colab_type": "code",
        "colab": {
          "base_uri": "https://localhost:8080/",
          "height": 35
        },
        "outputId": "115c717f-6e3c-4ef1-f9b6-d3093995b258"
      },
      "cell_type": "code",
      "source": [
        "print(log_reg.intercept_, log_reg.coef_)"
      ],
      "execution_count": 29,
      "outputs": [
        {
          "output_type": "stream",
          "text": [
            "[-3.89977794] [[0.03844482 0.03101855]]\n"
          ],
          "name": "stdout"
        }
      ]
    },
    {
      "metadata": {
        "id": "lUb2BHJoK7CH",
        "colab_type": "code",
        "colab": {
          "base_uri": "https://localhost:8080/",
          "height": 410
        },
        "outputId": "88128776-517f-46d4-f9b6-9965c7f92c77"
      },
      "cell_type": "code",
      "source": [
        "boundary_xs = np.array([np.min(X[:,1]), np.max(X[:,1])])\n",
        "boundary_ys = (-1./log_reg.coef_[0][1])*(log_reg.intercept_[0] + log_reg.coef_[0][0] * boundary_xs)\n",
        "plot_dataset(X, np.array(data1['admitted']), [30, 100 ,30, 100])\n",
        "plt.plot(boundary_xs,boundary_ys,'b-',label='Decision Boundary')\n",
        "plt.legend()"
      ],
      "execution_count": 30,
      "outputs": [
        {
          "output_type": "execute_result",
          "data": {
            "text/plain": [
              "<matplotlib.legend.Legend at 0x7f89c9602828>"
            ]
          },
          "metadata": {
            "tags": []
          },
          "execution_count": 30
        },
        {
          "output_type": "display_data",
          "data": {
            "image/png": "[encoded data removed]",
            "text/plain": [
              "<Figure size 720x432 with 1 Axes>"
            ]
          },
          "metadata": {
            "tags": []
          }
        }
      ]
    },
    {
      "metadata": {
        "id": "GrqlB0y-L3iq",
        "colab_type": "code",
        "colab": {
          "base_uri": "https://localhost:8080/",
          "height": 204
        },
        "outputId": "54d13a4c-f4ce-43f6-f7f4-0abbe49585c6"
      },
      "cell_type": "code",
      "source": [
        "data2 = pd.read_csv('ex2data2.txt', names=['test1', 'test2', 'accepted'])\n",
        "data2.head()"
      ],
      "execution_count": 31,
      "outputs": [
        {
          "output_type": "execute_result",
          "data": {
            "text/html": [
              "<div>\n",
              "<style scoped>\n",
              "    .dataframe tbody tr th:only-of-type {\n",
              "        vertical-align: middle;\n",
              "    }\n",
              "\n",
              "    .dataframe tbody tr th {\n",
              "        vertical-align: top;\n",
              "    }\n",
              "\n",
              "    .dataframe thead th {\n",
              "        text-align: right;\n",
              "    }\n",
              "</style>\n",
              "<table border=\"1\" class=\"dataframe\">\n",
              "  <thead>\n",
              "    <tr style=\"text-align: right;\">\n",
              "      <th></th>\n",
              "      <th>test1</th>\n",
              "      <th>test2</th>\n",
              "      <th>accepted</th>\n",
              "    </tr>\n",
              "  </thead>\n",
              "  <tbody>\n",
              "    <tr>\n",
              "      <th>0</th>\n",
              "      <td>0.051267</td>\n",
              "      <td>0.69956</td>\n",
              "      <td>1</td>\n",
              "    </tr>\n",
              "    <tr>\n",
              "      <th>1</th>\n",
              "      <td>-0.092742</td>\n",
              "      <td>0.68494</td>\n",
              "      <td>1</td>\n",
              "    </tr>\n",
              "    <tr>\n",
              "      <th>2</th>\n",
              "      <td>-0.213710</td>\n",
              "      <td>0.69225</td>\n",
              "      <td>1</td>\n",
              "    </tr>\n",
              "    <tr>\n",
              "      <th>3</th>\n",
              "      <td>-0.375000</td>\n",
              "      <td>0.50219</td>\n",
              "      <td>1</td>\n",
              "    </tr>\n",
              "    <tr>\n",
              "      <th>4</th>\n",
              "      <td>-0.513250</td>\n",
              "      <td>0.46564</td>\n",
              "      <td>1</td>\n",
              "    </tr>\n",
              "  </tbody>\n",
              "</table>\n",
              "</div>"
            ],
            "text/plain": [
              "      test1    test2  accepted\n",
              "0  0.051267  0.69956         1\n",
              "1 -0.092742  0.68494         1\n",
              "2 -0.213710  0.69225         1\n",
              "3 -0.375000  0.50219         1\n",
              "4 -0.513250  0.46564         1"
            ]
          },
          "metadata": {
            "tags": []
          },
          "execution_count": 31
        }
      ]
    },
    {
      "metadata": {
        "id": "7TRboQ2cMJTq",
        "colab_type": "code",
        "colab": {
          "base_uri": "https://localhost:8080/",
          "height": 441
        },
        "outputId": "cba72618-69da-4233-96a6-1f000b6cb7d0"
      },
      "cell_type": "code",
      "source": [
        "data2.info()\n",
        "data2.describe()"
      ],
      "execution_count": 32,
      "outputs": [
        {
          "output_type": "stream",
          "text": [
            "<class 'pandas.core.frame.DataFrame'>\n",
            "RangeIndex: 118 entries, 0 to 117\n",
            "Data columns (total 3 columns):\n",
            "test1       118 non-null float64\n",
            "test2       118 non-null float64\n",
            "accepted    118 non-null int64\n",
            "dtypes: float64(2), int64(1)\n",
            "memory usage: 2.8 KB\n"
          ],
          "name": "stdout"
        },
        {
          "output_type": "execute_result",
          "data": {
            "text/html": [
              "<div>\n",
              "<style scoped>\n",
              "    .dataframe tbody tr th:only-of-type {\n",
              "        vertical-align: middle;\n",
              "    }\n",
              "\n",
              "    .dataframe tbody tr th {\n",
              "        vertical-align: top;\n",
              "    }\n",
              "\n",
              "    .dataframe thead th {\n",
              "        text-align: right;\n",
              "    }\n",
              "</style>\n",
              "<table border=\"1\" class=\"dataframe\">\n",
              "  <thead>\n",
              "    <tr style=\"text-align: right;\">\n",
              "      <th></th>\n",
              "      <th>test1</th>\n",
              "      <th>test2</th>\n",
              "      <th>accepted</th>\n",
              "    </tr>\n",
              "  </thead>\n",
              "  <tbody>\n",
              "    <tr>\n",
              "      <th>count</th>\n",
              "      <td>118.000000</td>\n",
              "      <td>118.000000</td>\n",
              "      <td>118.000000</td>\n",
              "    </tr>\n",
              "    <tr>\n",
              "      <th>mean</th>\n",
              "      <td>0.054779</td>\n",
              "      <td>0.183102</td>\n",
              "      <td>0.491525</td>\n",
              "    </tr>\n",
              "    <tr>\n",
              "      <th>std</th>\n",
              "      <td>0.496654</td>\n",
              "      <td>0.519743</td>\n",
              "      <td>0.502060</td>\n",
              "    </tr>\n",
              "    <tr>\n",
              "      <th>min</th>\n",
              "      <td>-0.830070</td>\n",
              "      <td>-0.769740</td>\n",
              "      <td>0.000000</td>\n",
              "    </tr>\n",
              "    <tr>\n",
              "      <th>25%</th>\n",
              "      <td>-0.372120</td>\n",
              "      <td>-0.254385</td>\n",
              "      <td>0.000000</td>\n",
              "    </tr>\n",
              "    <tr>\n",
              "      <th>50%</th>\n",
              "      <td>-0.006336</td>\n",
              "      <td>0.213455</td>\n",
              "      <td>0.000000</td>\n",
              "    </tr>\n",
              "    <tr>\n",
              "      <th>75%</th>\n",
              "      <td>0.478970</td>\n",
              "      <td>0.646562</td>\n",
              "      <td>1.000000</td>\n",
              "    </tr>\n",
              "    <tr>\n",
              "      <th>max</th>\n",
              "      <td>1.070900</td>\n",
              "      <td>1.108900</td>\n",
              "      <td>1.000000</td>\n",
              "    </tr>\n",
              "  </tbody>\n",
              "</table>\n",
              "</div>"
            ],
            "text/plain": [
              "            test1       test2    accepted\n",
              "count  118.000000  118.000000  118.000000\n",
              "mean     0.054779    0.183102    0.491525\n",
              "std      0.496654    0.519743    0.502060\n",
              "min     -0.830070   -0.769740    0.000000\n",
              "25%     -0.372120   -0.254385    0.000000\n",
              "50%     -0.006336    0.213455    0.000000\n",
              "75%      0.478970    0.646562    1.000000\n",
              "max      1.070900    1.108900    1.000000"
            ]
          },
          "metadata": {
            "tags": []
          },
          "execution_count": 32
        }
      ]
    },
    {
      "metadata": {
        "id": "MERfyTpNMOLI",
        "colab_type": "code",
        "colab": {}
      },
      "cell_type": "code",
      "source": [
        "X = np.array(data2[['test1', 'test2']])\n",
        "y = np.array(data2['accepted'])\n",
        "X = np.insert(X, 0, 1, axis=1)"
      ],
      "execution_count": 0,
      "outputs": []
    },
    {
      "metadata": {
        "id": "FNYYfJ5MMOJn",
        "colab_type": "code",
        "colab": {}
      },
      "cell_type": "code",
      "source": [
        "def plot_dataset(X, y, axes):\n",
        "  plt.figure(figsize=(10,6))\n",
        "  plt.plot(X[:, 1][y==1], X[:, 2][y==1], \"k^\", label=\"accpeted\")\n",
        "  plt.plot(X[:, 1][y==0], X[:, 2][y==0], \"yo\", label=\"rejected\")\n",
        "  plt.axis(axes)\n",
        "  plt.xlabel(\"test 1\")\n",
        "  plt.ylabel(\"test 2\")\n",
        "  plt.grid(True)\n",
        "  plt.legend()"
      ],
      "execution_count": 0,
      "outputs": []
    },
    {
      "metadata": {
        "id": "S_Xj0GoUMu0R",
        "colab_type": "code",
        "colab": {
          "base_uri": "https://localhost:8080/",
          "height": 388
        },
        "outputId": "cfe8bc3a-ed9e-4586-c2be-21dc048209fc"
      },
      "cell_type": "code",
      "source": [
        "plot_dataset(X, np.array(data2['accepted']), [-1, 1.5, -0.8, 1.2])"
      ],
      "execution_count": 50,
      "outputs": [
        {
          "output_type": "display_data",
          "data": {
            "image/png": "[encoded data removed]",
            "text/plain": [
              "<Figure size 720x432 with 1 Axes>"
            ]
          },
          "metadata": {
            "tags": []
          }
        }
      ]
    },
    {
      "metadata": {
        "id": "9-Vh9OdQM6Ou",
        "colab_type": "code",
        "colab": {}
      },
      "cell_type": "code",
      "source": [
        "def mapFeature(x1, x2):\n",
        "    \"\"\" \n",
        "    Function that takes in a column of n- x1's, a column of n- x2s, and builds\n",
        "    a n- x 28-dim matrix of featuers as described in the homework assignment\n",
        "    \"\"\"\n",
        "    degrees = 6\n",
        "    out = np.ones((x1.shape[0], 1))\n",
        "\n",
        "    for i in range(1, degrees+1):\n",
        "        for j in range(0, i+1):\n",
        "            term1 = x1 ** (i-j)\n",
        "            term2 = x2 ** (j)\n",
        "            term  = (term1 * term2).reshape( term1.shape[0], 1 ) \n",
        "            out   = np.hstack(( out, term ))\n",
        "    return out"
      ],
      "execution_count": 0,
      "outputs": []
    },
    {
      "metadata": {
        "id": "qhJxeCCX3Foh",
        "colab_type": "code",
        "colab": {}
      },
      "cell_type": "code",
      "source": [
        "mappedX = mapFeature(X[:,1],X[:,2])"
      ],
      "execution_count": 0,
      "outputs": []
    },
    {
      "metadata": {
        "id": "nuEgyc5g2Mrc",
        "colab_type": "code",
        "colab": {}
      },
      "cell_type": "code",
      "source": [
        "y = y.reshape(y.size, 1)\n",
        "m = y.size"
      ],
      "execution_count": 0,
      "outputs": []
    },
    {
      "metadata": {
        "id": "t1xdFXn72_IS",
        "colab_type": "code",
        "colab": {
          "base_uri": "https://localhost:8080/",
          "height": 35
        },
        "outputId": "377dd571-7b1a-45ac-9ce6-2cd410771c0b"
      },
      "cell_type": "code",
      "source": [
        "initial_theta = np.zeros((mappedX.shape[1],1))\n",
        "j(initial_theta,mappedX,y)"
      ],
      "execution_count": 41,
      "outputs": [
        {
          "output_type": "execute_result",
          "data": {
            "text/plain": [
              "0.6931471805599454"
            ]
          },
          "metadata": {
            "tags": []
          },
          "execution_count": 41
        }
      ]
    },
    {
      "metadata": {
        "id": "bWRoWbEg3RlU",
        "colab_type": "code",
        "colab": {
          "base_uri": "https://localhost:8080/",
          "height": 143
        },
        "outputId": "70b5af49-549f-4089-9f03-78b533c0995b"
      },
      "cell_type": "code",
      "source": [
        "def optimizeRegularizedTheta(theta, X, y, lambda_=0.):\n",
        "    result = optimize.minimize(j, theta, args=(X, y, lambda_),  method='BFGS', options={\"maxiter\":500, \"disp\":False} )\n",
        "    return np.array([result.x]), result.fun\n",
        "    \n",
        "theta, mincost = optimizeRegularizedTheta(initial_theta, mappedX, y)\n",
        "\n",
        "print(theta, mincost)"
      ],
      "execution_count": 44,
      "outputs": [
        {
          "output_type": "stream",
          "text": [
            "[[   19.48895202    31.77071668    15.81856621  -190.32549752\n",
            "    -83.29113384   -98.64641249  -233.37013986  -192.73250352\n",
            "   -125.68678955   -39.10022931   653.81901509   497.24509303\n",
            "    808.05191392   331.61050851   178.7450436    397.50431401\n",
            "    515.11975572   612.32569907   354.6859969    127.31675721\n",
            "     34.0607572   -764.90841504  -890.34186772 -1493.76452377\n",
            "  -1027.76691682 -1008.49110118  -376.10753415  -121.08161146]] 0.24867318921330264\n"
          ],
          "name": "stdout"
        }
      ]
    },
    {
      "metadata": {
        "id": "H-lUNO9M3sSf",
        "colab_type": "code",
        "colab": {}
      },
      "cell_type": "code",
      "source": [
        "def plotBoundary(theta, X, y, lambda_=0.):\n",
        "    \"\"\"\n",
        "    Function to plot the decision boundary for arbitrary theta, X, y, lambda value\n",
        "    Inside of this function is feature mapping, and the minimization routine.\n",
        "    It works by making a grid of x1 (\"xvals\") and x2 (\"yvals\") points,\n",
        "    And for each, computing whether the hypothesis classifies that point as\n",
        "    True or False. Then, a contour is drawn with a built-in pyplot function.\n",
        "    \"\"\"\n",
        "    theta, mincost = optimizeRegularizedTheta(theta, X, y, lambda_)\n",
        "    xvals = np.linspace(-1,1.5,50)\n",
        "    yvals = np.linspace(-1,1.5,50)\n",
        "    zvals = np.zeros((len(xvals),len(yvals)))\n",
        "    for i in range(len(xvals)):\n",
        "        for j in range(len(yvals)):\n",
        "            myfeaturesij = mapFeature(np.array([xvals[i]]),np.array([yvals[j]]))\n",
        "            zvals[i][j] = np.dot(theta,myfeaturesij.T)\n",
        "    zvals = zvals.transpose()\n",
        "\n",
        "    u, v = np.meshgrid( xvals, yvals )\n",
        "    mycontour = plt.contour( xvals, yvals, zvals, [0])\n",
        "    #Kind of a hacky way to display a text on top of the decision boundary\n",
        "    myfmt = { 0:'Lambda = %d'%lambda_}\n",
        "    plt.clabel(mycontour, inline=1, fontsize=15, fmt=myfmt)\n",
        "    plt.title(\"Decision Boundary\")"
      ],
      "execution_count": 0,
      "outputs": []
    },
    {
      "metadata": {
        "id": "_ZcJjgEW34kF",
        "colab_type": "code",
        "colab": {
          "base_uri": "https://localhost:8080/",
          "height": 421
        },
        "outputId": "a7e39bfc-65d3-4196-f089-b1191ec6e58a"
      },
      "cell_type": "code",
      "source": [
        "plt.figure(figsize=(12,10))\n",
        "plot_dataset(X, np.array(data2['accepted']), [-1, 1.5, -0.8, 1.2])\n",
        "plotBoundary(theta,mappedX, np.array(data2['accepted']),0.)\n"
      ],
      "execution_count": 57,
      "outputs": [
        {
          "output_type": "display_data",
          "data": {
            "text/plain": [
              "<Figure size 864x720 with 0 Axes>"
            ]
          },
          "metadata": {
            "tags": []
          }
        },
        {
          "output_type": "display_data",
          "data": {
            "image/png": "[encoded data removed]",
            "text/plain": [
              "<Figure size 720x432 with 1 Axes>"
            ]
          },
          "metadata": {
            "tags": []
          }
        }
      ]
    },
    {
      "metadata": {
        "id": "raJRbYwp46Sk",
        "colab_type": "code",
        "colab": {
          "base_uri": "https://localhost:8080/",
          "height": 403
        },
        "outputId": "ddca09cb-f663-4e05-a884-894c6de26ba0"
      },
      "cell_type": "code",
      "source": [
        "plot_dataset(X, np.array(data2['accepted']), [-1, 1.5, -0.8, 1.2])\n",
        "plotBoundary(theta,mappedX, np.array(data2['accepted']),1.)"
      ],
      "execution_count": 58,
      "outputs": [
        {
          "output_type": "display_data",
          "data": {
            "image/png": "[encoded data removed]",
            "text/plain": [
              "<Figure size 720x432 with 1 Axes>"
            ]
          },
          "metadata": {
            "tags": []
          }
        }
      ]
    },
    {
      "metadata": {
        "id": "JM5dpR8v5ehv",
        "colab_type": "code",
        "colab": {
          "base_uri": "https://localhost:8080/",
          "height": 403
        },
        "outputId": "8b4b46e5-af0d-4571-acd0-e27bd1dd8e1b"
      },
      "cell_type": "code",
      "source": [
        "plot_dataset(X, np.array(data2['accepted']), [-1, 1.5, -0.8, 1.2])\n",
        "plotBoundary(theta,mappedX,np.array(data2['accepted']),100.)"
      ],
      "execution_count": 59,
      "outputs": [
        {
          "output_type": "display_data",
          "data": {
            "image/png": "[encoded data removed]",
            "text/plain": [
              "<Figure size 720x432 with 1 Axes>"
            ]
          },
          "metadata": {
            "tags": []
          }
        }
      ]
    }
  ]
}